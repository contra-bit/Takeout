{
 "cells": [
  {
   "cell_type": "markdown",
   "metadata": {},
   "source": [
    "# Google Search History\n",
    "*Visual representataion of Google searches*"
   ]
  },
  {
   "cell_type": "code",
   "execution_count": 77,
   "metadata": {
    "collapsed": false
   },
   "outputs": [],
   "source": [
    "import pandas as pd\n",
    "import numpy as np\n",
    "import matplotlib.pyplot as plt\n",
    "import seaborn as sns\n",
    "import json\n",
    "from datetime import datetime"
   ]
  },
  {
   "cell_type": "code",
   "execution_count": 78,
   "metadata": {
    "collapsed": true
   },
   "outputs": [],
   "source": [
    "%matplotlib inline\n",
    "sns.set_style('whitegrid')"
   ]
  },
  {
   "cell_type": "code",
   "execution_count": 92,
   "metadata": {
    "collapsed": false,
    "scrolled": false
   },
   "outputs": [
    {
     "data": {
      "text/html": [
       "<div>\n",
       "<table border=\"1\" class=\"dataframe\">\n",
       "  <thead>\n",
       "    <tr style=\"text-align: right;\">\n",
       "      <th></th>\n",
       "      <th>timestamp_0</th>\n",
       "      <th>query/query_text</th>\n",
       "      <th>time_str</th>\n",
       "    </tr>\n",
       "  </thead>\n",
       "  <tbody>\n",
       "    <tr>\n",
       "      <th>3507</th>\n",
       "      <td>1364821611.762</td>\n",
       "      <td>Doodlebug</td>\n",
       "      <td>2013-04-01 08:06:51</td>\n",
       "    </tr>\n",
       "    <tr>\n",
       "      <th>3508</th>\n",
       "      <td>1364821433.384</td>\n",
       "      <td>christophr nolan</td>\n",
       "      <td>2013-04-01 08:03:53</td>\n",
       "    </tr>\n",
       "    <tr>\n",
       "      <th>3509</th>\n",
       "      <td>1364819589.285</td>\n",
       "      <td>rose</td>\n",
       "      <td>2013-04-01 07:33:09</td>\n",
       "    </tr>\n",
       "    <tr>\n",
       "      <th>3510</th>\n",
       "      <td>1364817629.059</td>\n",
       "      <td>Brocki Basel Dreispitz@47.5363357,7.6075529</td>\n",
       "      <td>2013-04-01 07:00:29</td>\n",
       "    </tr>\n",
       "    <tr>\n",
       "      <th>3511</th>\n",
       "      <td>1364812397.342</td>\n",
       "      <td>Muttenz, Dorf, Muttenz</td>\n",
       "      <td>2013-04-01 05:33:17</td>\n",
       "    </tr>\n",
       "  </tbody>\n",
       "</table>\n",
       "</div>"
      ],
      "text/plain": [
       "        timestamp_0                             query/query_text  \\\n",
       "3507 1364821611.762                                    Doodlebug   \n",
       "3508 1364821433.384                             christophr nolan   \n",
       "3509 1364819589.285                                         rose   \n",
       "3510 1364817629.059  Brocki Basel Dreispitz@47.5363357,7.6075529   \n",
       "3511 1364812397.342                       Muttenz, Dorf, Muttenz   \n",
       "\n",
       "                 time_str  \n",
       "3507  2013-04-01 08:06:51  \n",
       "3508  2013-04-01 08:03:53  \n",
       "3509  2013-04-01 07:33:09  \n",
       "3510  2013-04-01 07:00:29  \n",
       "3511  2013-04-01 05:33:17  "
      ]
     },
     "execution_count": 92,
     "metadata": {},
     "output_type": "execute_result"
    }
   ],
   "source": [
    "\n",
    "pd.set_option('display.float_format', lambda x: '%.3f' % x)\n",
    "df = pd.read_csv('history.csv')\n",
    "\n",
    "for i in range(0,41):\n",
    "    df.rename(columns = {'query/id/{}/timestamp_usec'.format(i):'timestamp_{}'.format(i)}, inplace = True)\n",
    "\n",
    "df.dropna(axis=1, inplace=True) #Drop unnecessary collumns\n",
    "    \n",
    "    \n",
    "df['timestamp_0'] = df['timestamp_0'].astype(float)\n",
    "df['timestamp_0'] = df['timestamp_0'].map(lambda x: x / 1000000)\n",
    "df['time_str'] = df['timestamp_0'].map(lambda x: datetime.fromtimestamp(x).strftime('%Y-%m-%d %H:%M:%S'))\n",
    "df.tail()\n",
    "    "
   ]
  }
 ],
 "metadata": {
  "anaconda-cloud": {},
  "hide_input": false,
  "kernelspec": {
   "display_name": "Python 3",
   "language": "python",
   "name": "python3"
  },
  "language_info": {
   "codemirror_mode": {
    "name": "ipython",
    "version": 3
   },
   "file_extension": ".py",
   "mimetype": "text/x-python",
   "name": "python",
   "nbconvert_exporter": "python",
   "pygments_lexer": "ipython3",
   "version": "3.6.0"
  }
 },
 "nbformat": 4,
 "nbformat_minor": 2
}
